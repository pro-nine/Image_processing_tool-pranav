{
 "cells": [
  {
   "cell_type": "code",
   "execution_count": 2,
   "id": "bfd11189-3c76-4ef4-b824-946fb84b3c0a",
   "metadata": {},
   "outputs": [],
   "source": [
    "import pandas as pb"
   ]
  },
  {
   "cell_type": "code",
   "execution_count": 7,
   "id": "a626264e-7970-42f1-a9bd-2c7824a7065d",
   "metadata": {},
   "outputs": [],
   "source": [
    "import cv2 "
   ]
  },
  {
   "cell_type": "code",
   "execution_count": 16,
   "id": "490b5efd-6994-4b31-97d9-d4c3892a7945",
   "metadata": {},
   "outputs": [],
   "source": [
    "import matplotlib"
   ]
  },
  {
   "cell_type": "markdown",
   "id": "12d6acf9-4604-404a-a21a-67c89805eec7",
   "metadata": {},
   "source": [
    "# **Color detection code /output-color/**"
   ]
  },
  {
   "cell_type": "code",
   "execution_count": 5,
   "id": "6cc312aa-fe30-4e24-aed9-ff1bd7cbb1cd",
   "metadata": {
    "scrolled": true
   },
   "outputs": [
    {
     "name": "stdout",
     "output_type": "stream",
     "text": [
      "Detected colors: ['red', 'green', 'blue', 'yellow']\n",
      "Mean HSV values: [14.93587902 16.49700148 15.26242591]\n",
      "Mean RGB values: [15.26242591 16.49700148 14.93587902]\n"
     ]
    }
   ],
   "source": [
    "import cv2\n",
    "import numpy as np\n",
    "\n",
    "def detect_color(image_path, color_ranges):\n",
    "    # Read the image\n",
    "    image = cv2.imread(image_path)\n",
    "\n",
    "    # Convert the image from BGR to HSV (OpenCV reads images in BGR format)\n",
    "    image_hsv = cv2.cvtColor(image, cv2.COLOR_BGR2HSV)\n",
    "\n",
    "    # Mask to store color detection results\n",
    "    color_mask = np.zeros_like(image)\n",
    "\n",
    "    # Detected color names\n",
    "    detected_colors = []\n",
    "\n",
    "    # Detect colors within the specified ranges\n",
    "    for color_name, (lower, upper) in color_ranges.items():\n",
    "        lower_hsv = np.array(lower)\n",
    "        upper_hsv = np.array(upper)\n",
    "        mask = cv2.inRange(image_hsv, lower_hsv, upper_hsv)\n",
    "\n",
    "        # Apply the mask to the original image\n",
    "        color = np.array(cv2.cvtColor(np.uint8([[lower_hsv]]), cv2.COLOR_HSV2RGB))[0][0]\n",
    "        color_mask[mask > 0] = color\n",
    "\n",
    "        # Append the detected color name\n",
    "        if np.any(mask):\n",
    "            detected_colors.append(color_name)\n",
    "\n",
    "    return color_mask, detected_colors\n",
    "\n",
    "# Define color ranges for circles (HSV format)\n",
    "color_ranges = {\n",
    "    \"red\": [(160, 150, 50), (180, 255, 255)],\n",
    "    \"green\": [(50, 50, 50), (70, 255, 255)],\n",
    "    \"blue\": [(100, 50, 50), (130, 255, 255)],\n",
    "    \"yellow\": [(30, 50, 50), (60,255,255)],\n",
    "    # Add more color ranges as needed\n",
    "}\n",
    "\n",
    "# Example usage\n",
    "image_path = 'colored-dots-7175905.jpg'\n",
    "color_mask, detected_colors = detect_color(image_path, color_ranges)\n",
    "color_mask_rgb = cv2.cvtColor(color_mask, cv2.COLOR_BGR2RGB)\n",
    "#print image under the mask bitwise-and\n",
    "\n",
    "# Display the detected color names\n",
    "print(\"Detected colors:\", detected_colors)\n",
    "\n",
    "#Print mean HSV and RGB\n",
    "mean_hsv = np.mean(color_mask, axis=(0, 1))\n",
    "print(\"Mean HSV values:\", mean_hsv)\n",
    "mean_rgb = np.mean(color_mask_rgb, axis=(0, 1))\n",
    "print(\"Mean RGB values:\", mean_rgb)\n",
    "\n",
    "# Display the color detection results\n",
    "cv2.imshow('Color_mask', color_mask)\n",
    "cv2.waitKey(0)\n",
    "cv2.destroyAllWindows()"
   ]
  },
  {
   "cell_type": "markdown",
   "id": "25074cd6-f6cb-49bc-ae91-cc85c0e79cce",
   "metadata": {},
   "source": [
    "# **SEE Masked IMAGE HERE**"
   ]
  },
  {
   "cell_type": "code",
   "execution_count": 6,
   "id": "5d302c0a-713b-444f-9917-984885c9b876",
   "metadata": {},
   "outputs": [],
   "source": [
    "import cv2\n",
    "import numpy as np\n",
    "\n",
    "img = cv2.imread('WIN_20240314_11_55_26_Pro.jpg')\n",
    "\n",
    "img_RGB = cv2.cvtColor(img, cv2.COLOR_BGR2RGB)\n",
    "img_GRAY = cv2.cvtColor(img, cv2.COLOR_BGR2GRAY)\n",
    "hsv = cv2.cvtColor(img, cv2.COLOR_BGR2HSV)\n",
    "\n",
    "lower_green = np.array([45,150,50])  #green color range\n",
    "upper_green = np.array([75,255,255])\n",
    "lower_yellow = np.array([30,50,50])  #yellow color range\n",
    "upper_yellow = np.array([60,255,255])\n",
    "lower_red = np.array([0,150,50])  #red with shadows color range\n",
    "upper_red = np.array([15,255,255])\n",
    "lower_redS = np.array([160,150,50])  #red with shadows color range\n",
    "upper_redS = np.array([180,255,255])\n",
    "lower_blueL = np.array([75,150,50])  #light blue color range\n",
    "upper_blueL = np.array([140,255,255])\n",
    "\n",
    "\n",
    "mask_1 = cv2.inRange(hsv, lower_blueL, upper_blueL)\n",
    "mask_2 = cv2.inRange(hsv, lower_green, upper_green)\n",
    "mask_3 = cv2.inRange(hsv, lower_yellow, upper_yellow)\n",
    "mask_4 = cv2.inRange(hsv, lower_red, upper_red)\n",
    "mask_5 = cv2.inRange(hsv, lower_redS, upper_redS)\n",
    "mask = mask_1 + mask_2 + mask_3 + mask_4+ mask_5\n",
    "\n",
    "result_img_total = cv2.bitwise_and(img, img, mask=mask)\n",
    "mask_img_1 = cv2.bitwise_and(img, img, mask=mask_1)\n",
    "mask_img_2 = cv2.bitwise_and(img, img, mask=mask_2)\n",
    "mask_img_3 = cv2.bitwise_and(img, img, mask=mask_3)\n",
    "mask_img_4 = cv2.bitwise_and(img, img, mask=mask_4)\n",
    "mask_img_5 = cv2.bitwise_and(img, img, mask=mask_5)\n",
    "\"\"\"\n",
    "result_img_rgb= cv2.cvtcolor(result_img_total, cv2.COLOR_HSV2RGB )\n",
    "\n",
    "#print mean HSV and RGB \n",
    "mean_hsv = np.mean(result_img_total, axis=(0, 1))\n",
    "print(\"Mean HSV values:\", mean_hsv)\n",
    "mean_rgb = np.mean(result_img_rgb, axis=(0, 1))\n",
    "print(\"Mean RGB values:\", mean_rgb)\n",
    "\n",
    "# Visualize the mask (optional)\n",
    "cv2.imshow('Resulting Image',result_img_total)\n",
    "cv2.imshow('MASK1 Image',mask_img_1)\n",
    "cv2.imshow('MASK2 Image',mask_img_2)\n",
    "cv2.imshow('MASK3 Image',mask_img_3)\n",
    "cv2.imshow('MASK4 Image',mask_img_4)\n",
    "cv2.imshow('MASK5 Image',mask_img_5)\n",
    "\"\"\"\n",
    "cv2.imshow('Resulting Image',result_img_total)\n",
    "cv2.waitKey(0)\n",
    "cv2.destroyAllWindows()"
   ]
  },
  {
   "cell_type": "markdown",
   "id": "6751bfcb-19fe-4bf0-994a-702e7b25622b",
   "metadata": {},
   "source": [
    "# **Code to returns mean HSV, mean RGB, Strength and brigthness**"
   ]
  },
  {
   "cell_type": "markdown",
   "id": "52371a2f-e9d9-47d6-9658-784cc078e8b6",
   "metadata": {},
   "source": [
    "**strength and brightness, Mean HSV and RGB**"
   ]
  },
  {
   "cell_type": "code",
   "execution_count": 11,
   "id": "7a3c7382-0f88-4588-b467-3202acfb4c00",
   "metadata": {},
   "outputs": [
    {
     "name": "stdout",
     "output_type": "stream",
     "text": [
      "Mean HSV values: 0.0\n",
      "Dominant color (RGB): (0, 0, 0)\n",
      "Saturation: 0\n",
      "Brightness: 0\n"
     ]
    }
   ],
   "source": [
    "import cv2\n",
    "import numpy as np\n",
    "\n",
    "def get_dominant_color(image_path, mask):\n",
    "    # Read the image\n",
    "    image = cv2.imread(image_path)\n",
    "    \n",
    "    # Convert the image from BGR to RGB\n",
    "    image_rgb = cv2.cvtColor(image, cv2.COLOR_BGR2RGB)\n",
    "    \n",
    "    # Mask the image to extract only the important region\n",
    "    masked_image = cv2.bitwise_and(image_rgb, image_rgb, mask=mask)\n",
    "    \n",
    "    # Calculate the dominant color within the masked region\n",
    "    dominant_color_rgb = tuple(np.uint8(np.mean(masked_image, axis=(0, 1))))\n",
    "    \n",
    "    # Convert the dominant color from RGB to HSV\n",
    "    dominant_color_hsv = cv2.cvtColor(np.uint8([[dominant_color_rgb]]), cv2.COLOR_RGB2HSV)[0][0]\n",
    "    \n",
    "    # Extract saturation and brightness values\n",
    "    saturation = dominant_color_hsv[1]\n",
    "    brightness = dominant_color_hsv[2]\n",
    "    \n",
    "    return dominant_color_rgb, saturation, brightness\n",
    "\n",
    "# Example usage\n",
    "image_path = 'WIN_20240314_11_55_26_Pro.jpg'\n",
    "\n",
    "#mask \n",
    "lower_green = np.array([45,150,50])  #green color range\n",
    "upper_green = np.array([75,255,255])\n",
    "lower_yellow = np.array([30,50,50])  #yellow color range\n",
    "upper_yellow = np.array([60,255,255])\n",
    "lower_red = np.array([0,150,50])  #red with shadows color range\n",
    "upper_red = np.array([15,255,255])\n",
    "lower_redS = np.array([160,150,50])  #red with shadows color range\n",
    "upper_redS = np.array([180,255,255])\n",
    "lower_blueL = np.array([75,150,50])  #light blue color range\n",
    "upper_blueL = np.array([140,255,255])\n",
    "\n",
    "\n",
    "mask_1 = cv2.inRange(hsv, lower_blueL, upper_blueL)\n",
    "mask_2 = cv2.inRange(hsv, lower_green, upper_green)\n",
    "mask_3 = cv2.inRange(hsv, lower_yellow, upper_yellow)\n",
    "mask_4 = cv2.inRange(hsv, lower_red, upper_red)\n",
    "mask_5 = cv2.inRange(hsv, lower_redS, upper_redS)\n",
    "mask = mask_1 + mask_2 + mask_3 + mask_4+ mask_5  # This should be the mask corresponding to the important region of the image\n",
    "\n",
    "mean_hsv = np.mean(mask, axis=(0, 1))\n",
    "print(\"Mean HSV values:\", mean_hsv)\n",
    "   \n",
    "print(\"Dominant color (RGB):\", dominant_color_rgb)\n",
    "print(\"Saturation:\", saturation)\n",
    "print(\"Brightness:\", brightness)\n"
   ]
  },
  {
   "cell_type": "markdown",
   "id": "1b102616-b530-4fe3-8864-e37a69676546",
   "metadata": {},
   "source": [
    "**Print grid on mask**"
   ]
  },
  {
   "cell_type": "code",
   "execution_count": 14,
   "id": "d32a0af1-cf50-49c5-80d4-eadc36f8292e",
   "metadata": {},
   "outputs": [],
   "source": [
    "import cv2\n",
    "import numpy as np\n",
    "\n",
    "def add_grid_scale(image, scale_length=30, scale_spacing=30):\n",
    " \n",
    "    height, width = image.shape[:2]\n",
    "\n",
    "  \n",
    "    image_with_grid = np.copy(image)\n",
    "\n",
    "    # color and thickness for the grid \n",
    "    grid_color = (255, 255, 255)  # White color\n",
    "    grid_thickness = 1\n",
    "\n",
    "    # horizontal grid lines\n",
    "    for y in range(0, height, scale_spacing):\n",
    "        cv2.line(image_with_grid, (0, y), (width, y), grid_color, grid_thickness)\n",
    "        # Add text for scale numbering\n",
    "        cv2.putText(image_with_grid, str(y), (5, y), cv2.FONT_HERSHEY_SIMPLEX, 0.5, grid_color, 1)\n",
    "\n",
    "    # vertical grid lines\n",
    "    for x in range(0, width, scale_spacing):\n",
    "        cv2.line(image_with_grid, (x, 0), (x, height), grid_color, grid_thickness)\n",
    "        # Add text for scale numbering\n",
    "        cv2.putText(image_with_grid, str(x), (x, 15), cv2.FONT_HERSHEY_SIMPLEX, 0.5, grid_color, 1)\n",
    "\n",
    "    return image_with_grid\n",
    "\n",
    "\n",
    "image_path = 'WIN_20240314_11_55_26_Pro.jpg'\n",
    "\n",
    "#mask \n",
    "lower_green = np.array([45,150,50])  #green color range\n",
    "upper_green = np.array([75,255,255])\n",
    "lower_yellow = np.array([30,50,50])  #yellow color range\n",
    "upper_yellow = np.array([60,255,255])\n",
    "lower_red = np.array([0,150,50])  #red with shadows color range\n",
    "upper_red = np.array([15,255,255])\n",
    "lower_redS = np.array([160,150,50])  #red with shadows color range\n",
    "upper_redS = np.array([180,255,255])\n",
    "lower_blueL = np.array([75,150,50])  #light blue color range\n",
    "upper_blueL = np.array([140,255,255])\n",
    "\n",
    "\n",
    "mask_1 = cv2.inRange(hsv, lower_blueL, upper_blueL)\n",
    "mask_2 = cv2.inRange(hsv, lower_green, upper_green)\n",
    "mask_3 = cv2.inRange(hsv, lower_yellow, upper_yellow)\n",
    "mask_4 = cv2.inRange(hsv, lower_red, upper_red)\n",
    "mask_5 = cv2.inRange(hsv, lower_redS, upper_redS)\n",
    "mask = mask_1 + mask_2 + mask_3 + mask_4+ mask_5  # This should be the mask corresponding to the important region of the image\n",
    "\n",
    "image = cv2.imread(image_path)\n",
    "\n",
    "# masking the image\n",
    "masked_image = cv2.bitwise_and(image, image, mask=mask)\n",
    "\n",
    "# addition of grid scale to the masked image\n",
    "masked_image_with_grid = add_grid_scale(masked_image)\n",
    "\n",
    "# the masked image with grid scale\n",
    "cv2.imshow('Masked Image with Grid Scale', masked_image_with_grid)\n",
    "cv2.waitKey(0)\n",
    "cv2.destroyAllWindows()"
   ]
  },
  {
   "cell_type": "markdown",
   "id": "61722cde-a247-4ac7-a2d5-8efd6946968d",
   "metadata": {},
   "source": [
    "# color picker"
   ]
  },
  {
   "cell_type": "code",
   "execution_count": 2,
   "id": "669d12c4-d1ec-4568-a30d-5ef8d7ac9748",
   "metadata": {},
   "outputs": [
    {
     "name": "stdout",
     "output_type": "stream",
     "text": [
      "BGR values at (198, 51): (158, 131, 157)\n",
      "BGR values at (344, 56): (129, 126, 158)\n",
      "BGR values at (374, 136): (117, 64, 61)\n"
     ]
    }
   ],
   "source": [
    "import cv2\n",
    "\n",
    "def pick_color(event, x, y, flags, param):\n",
    "    if event == cv2.EVENT_LBUTTONDOWN:\n",
    "        # Get the BGR values of the clicked pixel\n",
    "        b, g, r = image[y, x]\n",
    "        print(\"BGR values at ({}, {}): ({}, {}, {})\".format(x, y, b, g, r))\n",
    "\n",
    "\n",
    "image = cv2.imread('WIN_20240304_23_21_58_Pro (2).jpg')  \n",
    "\n",
    "cv2.namedWindow('Color Picker')\n",
    "cv2.setMouseCallback('Color Picker', pick_color)\n",
    "\n",
    "while True:\n",
    "    cv2.imshow('Color Picker', image)\n",
    "    key = cv2.waitKey(1) & 0xFF\n",
    "    if key == ord('q'):\n",
    "        break\n",
    "\n",
    "cv2.destroyAllWindows()\n"
   ]
  },
  {
   "cell_type": "markdown",
   "id": "06b005da-e43e-4070-8ef9-29e319e3218a",
   "metadata": {},
   "source": [
    "# eged dectedted plots"
   ]
  },
  {
   "cell_type": "code",
   "execution_count": 1,
   "id": "546e18b8-688a-48c3-b6f5-228370b77a64",
   "metadata": {},
   "outputs": [
    {
     "name": "stdout",
     "output_type": "stream",
     "text": [
      "Circle Name: Circle 1\n",
      "Average Color (RGB): [ 59  49 150]\n",
      "Color Strength: 258\n",
      "Circle Name: Circle 2\n",
      "Average Color (RGB): [ 55  41 147]\n",
      "Color Strength: 243\n",
      "Circle Name: Circle 3\n",
      "Average Color (RGB): [ 65  53 158]\n",
      "Color Strength: 276\n",
      "Circle Name: Circle 4\n",
      "Average Color (RGB): [ 70  59 159]\n",
      "Color Strength: 288\n",
      "Circle Name: Circle 5\n",
      "Average Color (RGB): [ 67  57 159]\n",
      "Color Strength: 283\n",
      "Circle Name: Circle 6\n",
      "Average Color (RGB): [ 70  58 159]\n",
      "Color Strength: 287\n",
      "Circle Name: Circle 7\n",
      "Average Color (RGB): [ 69  57 159]\n",
      "Color Strength: 285\n"
     ]
    }
   ],
   "source": [
    "import cv2\n",
    "import numpy as np\n",
    "\n",
    "# Read the input image\n",
    "image = cv2.imread('Project_imgPROCESSING_img.jpeg')\n",
    "\n",
    "# Convert the image to grayscale\n",
    "gray = cv2.cvtColor(image, cv2.COLOR_BGR2GRAY)\n",
    "\n",
    "# Perform Gaussian blurring to reduce noise\n",
    "blurred = cv2.GaussianBlur(gray, (5, 5), 0)\n",
    "\n",
    "# Apply Hough Circle Transform for circle detection\n",
    "circles = cv2.HoughCircles(blurred, cv2.HOUGH_GRADIENT, dp=1, minDist=50,\n",
    "                            param1=200, param2=30, minRadius=10, maxRadius=100)\n",
    "\n",
    "# Dictionary mapping circle indices to their names\n",
    "circle_names = {0: \"Circle 1\", 1: \"Circle 2\", 2: \"Circle 3\", 3: \"Circle 4\", 4: \"Circle 5\", 5: \"Circle 6\", 6: \"Circle 7\"}  # Add more names as needed\n",
    "\n",
    "# If circles are detected\n",
    "if circles is not None:\n",
    "    # Convert the (x, y) coordinates and radius of the circles to integers\n",
    "    circles = np.round(circles[0, :]).astype(\"int\")\n",
    "    \n",
    "    # Loop over the detected circles\n",
    "    for i, (x, y, r) in enumerate(circles):\n",
    "        # Extract the circular region as ROI\n",
    "        roi = image[y - r:y + r, x - r:x + r]\n",
    "        \n",
    "        # Calculate the average color (RGB values) within the ROI\n",
    "        avg_color = np.mean(roi, axis=(0, 1)).astype(int)\n",
    "        \n",
    "        # Calculate the color strength (e.g., sum of RGB values)\n",
    "        color_strength = np.sum(avg_color)\n",
    "        \n",
    "        # Print the name, average color, and color strength\n",
    "        name = circle_names.get(i, \"Unknown\")\n",
    "        print(f\"Circle Name: {name}\")\n",
    "        print(\"Average Color (RGB):\", avg_color)\n",
    "        print(\"Color Strength:\", color_strength)\n",
    "        \n",
    "        # Draw the circle and bounding box\n",
    "        cv2.circle(image, (x, y), r, (0, 255, 0), 2)\n",
    "        cv2.putText(image, name, (x - 50, y - r - 10), cv2.FONT_HERSHEY_SIMPLEX, 0.5, (0, 255, 0), 2)\n",
    "\n",
    "# Display the output image\n",
    "cv2.imshow('Detected Circles', image)\n",
    "cv2.waitKey(0)\n",
    "cv2.destroyAllWindows()\n"
   ]
  },
  {
   "cell_type": "code",
   "execution_count": 7,
   "id": "ecb041e4-dc31-4ce7-9b7d-674e695e6516",
   "metadata": {},
   "outputs": [],
   "source": []
  },
  {
   "cell_type": "code",
   "execution_count": null,
   "id": "98dd130d-6ccc-4ec5-8760-684b6deb2c0a",
   "metadata": {},
   "outputs": [],
   "source": []
  },
  {
   "cell_type": "code",
   "execution_count": 2,
   "id": "53b0c2ed-06e5-483d-9eb5-b31130a64bd6",
   "metadata": {},
   "outputs": [
    {
     "name": "stdout",
     "output_type": "stream",
     "text": [
      "BGR values at (324, 63): (21, 0, 139)\n"
     ]
    }
   ],
   "source": [
    "import cv2\n",
    "import numpy as np\n",
    "\n",
    "def pick_color(event, x, y, flags, param):\n",
    "    if event == cv2.EVENT_LBUTTONDOWN:\n",
    "        # Get the BGR values of the clicked pixel\n",
    "        b, g, r = image[y, x]\n",
    "        print(\"BGR values at ({}, {}): ({}, {}, {})\".format(x, y, b, g, r))\n",
    "\n",
    "# Load an image\n",
    "image = cv2.imread('Project_imgPROCESSING_img.jpeg')  # Replace 'sample_image.jpg' with your image file\n",
    "\"\"\"\n",
    "# grayscale\n",
    "gray = cv2.cvtColor(image, cv2.COLOR_BGR2GRAY)\n",
    "# Canny edge detection\n",
    "edges = cv2.Canny(gray, 50, 150)\n",
    "contours, _ = cv2.findContours(edges, cv2.RETR_EXTERNAL, cv2.CHAIN_APPROX_SIMPLE)\n",
    "cv2.drawContours(image, contours, -1, (0, 255, 0), 2)\n",
    "\"\"\"\n",
    "\n",
    "cv2.namedWindow('Color Picker')\n",
    "cv2.setMouseCallback('Color Picker', pick_color)\n",
    "\n",
    "while True:\n",
    "    cv2.imshow('Color Picker', image)\n",
    "    key = cv2.waitKey(1) & 0xFF\n",
    "    if key == ord('q'):\n",
    "        break\n",
    "\n",
    "cv2.destroyAllWindows()\n"
   ]
  },
  {
   "cell_type": "code",
   "execution_count": 5,
   "id": "2e843ef1-dbd0-4ace-a354-3161fc051e7f",
   "metadata": {},
   "outputs": [
    {
     "name": "stdout",
     "output_type": "stream",
     "text": [
      "BGR values at (321, 59): (41, 17, 159)\n"
     ]
    }
   ],
   "source": [
    "import cv2\n",
    "import numpy as np\n",
    "\n",
    "def pick_color(event, x, y, flags, param):\n",
    "    global image, hovered_area\n",
    "    if event == cv2.EVENT_MOUSEMOVE:\n",
    "        if x >= 25 and y >= 25 and x + 25 < image.shape[1] and y + 25 < image.shape[0]:\n",
    "            hovered_area = image[y-25:y+25, x-25:x+25]\n",
    "            image_with_cursor = image.copy()\n",
    "            cv2.rectangle(image_with_cursor, (x-25, y-25), (x+25, y+25), (255, 255, 255), 2)\n",
    "            cv2.imshow('Color Picker', image_with_cursor)\n",
    "            cv2.imshow('Hovered Area', hovered_area)\n",
    "    elif event == cv2.EVENT_LBUTTONDOWN:\n",
    "        r, g, b = image[y, x]\n",
    "        print(\"BGR values at ({}, {}): ({}, {}, {})\".format(x, y, b, g, r))\n",
    "\n",
    "imgage = cv2.imread('Project_imgPROCESSING_img.jpeg') \n",
    "#image = cv2.cvtColor(img, cv2.COLOR_BGR2RGB) \n",
    "\n",
    "cv2.namedWindow('Color Picker')\n",
    "cv2.setMouseCallback('Color Picker', pick_color)\n",
    "\n",
    "hovered_area = np.zeros((50, 50, 3), dtype=np.uint8) \n",
    "\n",
    "while True:\n",
    "    key = cv2.waitKey(1) & 0xFF\n",
    "    if key == ord('q'):\n",
    "        break\n",
    "\n",
    "cv2.destroyAllWindows()\n"
   ]
  },
  {
   "cell_type": "code",
   "execution_count": 3,
   "id": "c219870f-f6fc-418e-9c48-cfa077eb5e11",
   "metadata": {},
   "outputs": [],
   "source": [
    "import cv2\n",
    "import numpy as np\n",
    "\n",
    "def pick_color(event, x, y, flags, param):\n",
    "    global image, hovered_area\n",
    "    if event == cv2.EVENT_MOUSEMOVE:\n",
    "        if x >= 25 and y >= 25 and x + 25 < image.shape[1] and y + 25 < image.shape[0]:\n",
    "            hovered_area = image[y-25:y+25, x-25:x+25]\n",
    "            # Draw custom cursor\n",
    "            image_with_cursor = image.copy()\n",
    "            cv2.rectangle(image_with_cursor, (x-25, y-25), (x+25, y+25), (255, 255, 255), 2)\n",
    "            \n",
    "            # Convert hovered area to RGB\n",
    "            hovered_area_rgb = cv2.cvtColor(hovered_area, cv2.COLOR_BGR2RGB)\n",
    "            \n",
    "            # Create a mask with the same size as the original image\n",
    "            mask = np.zeros_like(image, dtype=np.uint8)\n",
    "            mask[y-25:y+25, x-25:x+25] = 255\n",
    "            \n",
    "            # Combine original image and hovered area\n",
    "            combined_image = cv2.bitwise_and(image_with_cursor, mask)\n",
    "            combined_image[y-25:y+25, x-25:x+25] = hovered_area_rgb\n",
    "            \n",
    "            cv2.imshow('Color Picker', combined_image)\n",
    "            cv2.imshow('Hovered Area', hovered_area)\n",
    "    elif event == cv2.EVENT_LBUTTONDOWN:\n",
    "        # Get the RGB values of the clicked pixel\n",
    "        r, g, b = image[y, x]\n",
    "        print(\"RGB values at ({}, {}): ({}, {}, {})\".format(x, y, r, g, b))\n",
    "\n",
    "# Load an image\n",
    "image = cv2.imread('Project_imgPROCESSING_img.jpeg')  # Replace 'sample_image.jpg' with your image file\n",
    "\n",
    "\n",
    "cv2.namedWindow('Color Picker')\n",
    "cv2.setMouseCallback('Color Picker', pick_color)\n",
    "\n",
    "hovered_area = np.zeros((50, 50, 3), dtype=np.uint8)  # Placeholder for the hovered area\n",
    "\n",
    "while True:\n",
    "    key = cv2.waitKey(1) & 0xFF\n",
    "    if key == ord('q'):\n",
    "        break\n",
    "\n",
    "cv2.destroyAllWindows()\n"
   ]
  },
  {
   "cell_type": "markdown",
   "id": "20758a2b-d5c2-4ff1-8967-3ab07f8162b6",
   "metadata": {
    "jp-MarkdownHeadingCollapsed": true
   },
   "source": [
    "# /Get color from mean values/"
   ]
  },
  {
   "cell_type": "code",
   "execution_count": 27,
   "id": "09f6346c-758e-4531-91bc-6b836ec488f6",
   "metadata": {},
   "outputs": [
    {
     "name": "stdout",
     "output_type": "stream",
     "text": [
      "Closest color: red\n"
     ]
    }
   ],
   "source": [
    "import numpy as np\n",
    "\n",
    "# Define a dictionary of common color names and their RGB values\n",
    "color_samples = {\n",
    "    'red': (255, 0, 0),\n",
    "    'green': (0, 255, 0),\n",
    "    'blue': (0, 0, 255),\n",
    "    # Add more color samples as needed\n",
    "}\n",
    "\n",
    "# Given mean RGB value\n",
    "mean_rgb = (16, 3, 5)\n",
    "\n",
    "# Calculate the Euclidean distance between the given mean RGB value and each color sample\n",
    "distances = {color: np.linalg.norm(np.array(mean_rgb) - np.array(rgb)) for color, rgb in color_samples.items()}\n",
    "\n",
    "# Find the color with the smallest distance\n",
    "closest_color = min(distances, key=distances.get)\n",
    "\n",
    "print(\"Closest color:\", closest_color)\n"
   ]
  },
  {
   "cell_type": "code",
   "execution_count": 33,
   "id": "9e7a1152-b4a7-40f7-8e92-c9d160d2d9b7",
   "metadata": {},
   "outputs": [
    {
     "name": "stdout",
     "output_type": "stream",
     "text": [
      "Closest color: red\n"
     ]
    }
   ],
   "source": [
    "import numpy as np\n",
    "\n",
    "def closest_color(mean_hsv, color_samples):\n",
    "    # Initialize variables to store the closest color and its distance\n",
    "    closest_distance = float('inf')\n",
    "    closest_color = None\n",
    "    \n",
    "    # Iterate over the predefined colors and their HSV values\n",
    "    for color_name, hsv in color_samples.items():\n",
    "        # Calculate the distance between the mean HSV value and the predefined HSV value\n",
    "        distance = np.linalg.norm(np.array(mean_hsv) - np.array(hsv))\n",
    "        \n",
    "        # Update the closest color if a closer one is found\n",
    "        if distance < closest_distance:\n",
    "            closest_distance = distance\n",
    "            closest_color = color_name\n",
    "    \n",
    "    return closest_color\n",
    "\n",
    "# Given mean HSV values\n",
    "mean_hsv = [5.49716436, 2.30880903, 4.39773149]\n",
    "\n",
    "# Predefined colors and their HSV values\n",
    "color_samples = {\n",
    "    'red': [0, 255, 255],     # Example values, replace with actual HSV values\n",
    "    'green': [60, 255, 255],  # Example values, replace with actual HSV values\n",
    "    'blue': [120, 255, 255]   # Example values, replace with actual HSV values\n",
    "    # Add more colors and their HSV values as needed\n",
    "}\n",
    "\n",
    "# Find the closest color to the mean HSV value\n",
    "closest_color_name = closest_color(mean_hsv, color_samples)\n",
    "\n",
    "print(\"Closest color:\", closest_color_name)\n"
   ]
  },
  {
   "cell_type": "code",
   "execution_count": null,
   "id": "31f2b0c5-22c2-4255-89bd-e71c2b3e6320",
   "metadata": {},
   "outputs": [],
   "source": []
  }
 ],
 "metadata": {
  "kernelspec": {
   "display_name": "Python 3 (ipykernel)",
   "language": "python",
   "name": "python3"
  },
  "language_info": {
   "codemirror_mode": {
    "name": "ipython",
    "version": 3
   },
   "file_extension": ".py",
   "mimetype": "text/x-python",
   "name": "python",
   "nbconvert_exporter": "python",
   "pygments_lexer": "ipython3",
   "version": "3.11.8"
  }
 },
 "nbformat": 4,
 "nbformat_minor": 5
}
